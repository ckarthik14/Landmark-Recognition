{
 "cells": [
  {
   "cell_type": "code",
   "execution_count": 1,
   "metadata": {},
   "outputs": [
    {
     "name": "stderr",
     "output_type": "stream",
     "text": [
      "Using TensorFlow backend.\n"
     ]
    }
   ],
   "source": [
    "import cv2                 # working with, mainly resizing, images\n",
    "import numpy as np         # dealing with arrays\n",
    "import os                  # dealing with directories\n",
    "from random import shuffle # mixing up or currently ordered data that might lead our network astray in training.\n",
    "from tqdm import tqdm      # a nice pretty percentage bar for tasks. Thanks to viewer Daniel BA1/4hler for this suggestion\n",
    "\n",
    "from keras.layers import Input, Dense, Activation, BatchNormalization, Flatten, Conv2D\n",
    "from keras.layers import MaxPooling2D, Dropout\n",
    "from keras.models import Model, load_model, Sequential\n",
    "from keras.applications.vgg16 import VGG16\n",
    "from keras.optimizers import Adam, RMSprop\n",
    "from keras.preprocessing.image import ImageDataGenerator\n",
    "\n",
    "import re\n",
    "\n",
    "import matplotlib.pyplot as plt\n",
    "\n",
    "DATA_DIR = 'dataset_50_class/'\n",
    "TRAIN_DIR = 'train_50_class/'\n",
    "TEST_DIR = 'test_50_class/'\n",
    "IMG_SIZE = 128"
   ]
  },
  {
   "cell_type": "code",
   "execution_count": 2,
   "metadata": {},
   "outputs": [],
   "source": [
    "def get_dict():\n",
    "    MAPPING_DICT = {}\n",
    "    i = 0\n",
    "\n",
    "    for class_label in os.listdir(DATA_DIR):\n",
    "        MAPPING_DICT[i] = class_label\n",
    "        i += 1\n",
    "#     print(MAPPING_DICT)\n",
    "    \n",
    "    return MAPPING_DICT"
   ]
  },
  {
   "cell_type": "code",
   "execution_count": 3,
   "metadata": {},
   "outputs": [],
   "source": [
    "mapping_dict = get_dict()"
   ]
  },
  {
   "cell_type": "code",
   "execution_count": 4,
   "metadata": {},
   "outputs": [],
   "source": [
    "def label_img(img):\n",
    "    img_class = re.split(\"[_.]\", img)[1]    \n",
    "    i = 0\n",
    "    \n",
    "    for key,val in mapping_dict.items():\n",
    "        if val == img_class:\n",
    "            i = key\n",
    "            break\n",
    "    \n",
    "    a = [0 for j in range(50)]\n",
    "    \n",
    "    a[i] = 1\n",
    "    \n",
    "    return a"
   ]
  },
  {
   "cell_type": "code",
   "execution_count": 5,
   "metadata": {},
   "outputs": [],
   "source": [
    "def create_train_data():\n",
    "    training_data = []\n",
    "    for img in tqdm(os.listdir(TRAIN_DIR)):\n",
    "        label = label_img(img)\n",
    "        path = os.path.join(TRAIN_DIR,img)\n",
    "        img = cv2.imread(path)\n",
    "        img = cv2.resize(img, (IMG_SIZE,IMG_SIZE))\n",
    "        training_data.append([np.array(img),np.array(label)])\n",
    "    shuffle(training_data)\n",
    "    np.save('train_data.npy', training_data)\n",
    "    return training_data"
   ]
  },
  {
   "cell_type": "code",
   "execution_count": 6,
   "metadata": {},
   "outputs": [
    {
     "name": "stdout",
     "output_type": "stream",
     "text": [
      "[array([[[230, 182, 130],\n",
      "        [231, 182, 132],\n",
      "        [232, 183, 133],\n",
      "        ...,\n",
      "        [250, 247, 243],\n",
      "        [250, 247, 243],\n",
      "        [250, 246, 245]],\n",
      "\n",
      "       [[233, 184, 134],\n",
      "        [234, 185, 135],\n",
      "        [237, 188, 138],\n",
      "        ...,\n",
      "        [249, 248, 247],\n",
      "        [247, 246, 245],\n",
      "        [248, 248, 246]],\n",
      "\n",
      "       [[234, 187, 136],\n",
      "        [236, 189, 138],\n",
      "        [234, 185, 135],\n",
      "        ...,\n",
      "        [247, 247, 247],\n",
      "        [248, 248, 248],\n",
      "        [247, 247, 247]],\n",
      "\n",
      "       ...,\n",
      "\n",
      "       [[ 51,  56,  61],\n",
      "        [ 42,  44,  45],\n",
      "        [ 60,  64,  68],\n",
      "        ...,\n",
      "        [ 44,  44,  46],\n",
      "        [ 56,  58,  59],\n",
      "        [ 42,  44,  46]],\n",
      "\n",
      "       [[ 44,  47,  50],\n",
      "        [ 42,  45,  46],\n",
      "        [ 56,  55,  57],\n",
      "        ...,\n",
      "        [ 54,  54,  61],\n",
      "        [ 57,  57,  61],\n",
      "        [ 57,  57,  61]],\n",
      "\n",
      "       [[ 62,  63,  61],\n",
      "        [ 60,  63,  61],\n",
      "        [ 62,  63,  61],\n",
      "        ...,\n",
      "        [ 41,  39,  44],\n",
      "        [ 41,  38,  40],\n",
      "        [ 45,  43,  42]]], dtype=uint8)\n",
      " array([0, 0, 0, 0, 0, 0, 0, 0, 0, 0, 0, 0, 0, 0, 0, 0, 0, 0, 0, 0, 0, 0,\n",
      "       0, 0, 0, 0, 0, 0, 0, 0, 0, 0, 0, 0, 0, 0, 0, 0, 0, 0, 0, 0, 0, 0,\n",
      "       1, 0, 0, 0, 0, 0])]\n"
     ]
    }
   ],
   "source": [
    "# train = create_train_data()\n",
    "train = np.load(\"train_data.npy\", allow_pickle=True)\n",
    "print(train[0])"
   ]
  },
  {
   "cell_type": "code",
   "execution_count": 7,
   "metadata": {},
   "outputs": [],
   "source": [
    "def create_test_data():\n",
    "    testing_data = []\n",
    "    for img in tqdm(os.listdir(TEST_DIR)):\n",
    "        label = label_img(img)\n",
    "        path = os.path.join(TEST_DIR,img)\n",
    "        img = cv2.imread(path)\n",
    "        img = cv2.resize(img, (IMG_SIZE,IMG_SIZE))\n",
    "        testing_data.append([np.array(img),np.array(label)])\n",
    "    shuffle(testing_data)\n",
    "    np.save('test_data.npy', testing_data)\n",
    "    return testing_data"
   ]
  },
  {
   "cell_type": "code",
   "execution_count": 8,
   "metadata": {},
   "outputs": [
    {
     "name": "stdout",
     "output_type": "stream",
     "text": [
      "[array([[[ 34,  56,  47],\n",
      "        [ 36,  69,  58],\n",
      "        [ 55,  96,  85],\n",
      "        ...,\n",
      "        [ 30,  46,  30],\n",
      "        [ 39,  47,  36],\n",
      "        [ 41,  51,  39]],\n",
      "\n",
      "       [[ 41,  54,  43],\n",
      "        [ 32,  53,  41],\n",
      "        [ 35,  60,  50],\n",
      "        ...,\n",
      "        [ 42,  54,  42],\n",
      "        [ 30,  38,  28],\n",
      "        [ 28,  33,  24]],\n",
      "\n",
      "       [[ 54,  63,  53],\n",
      "        [ 39,  55,  44],\n",
      "        [ 36,  57,  48],\n",
      "        ...,\n",
      "        [ 43,  59,  43],\n",
      "        [ 32,  41,  31],\n",
      "        [ 35,  37,  30]],\n",
      "\n",
      "       ...,\n",
      "\n",
      "       [[227, 172,  97],\n",
      "        [206, 149,  56],\n",
      "        [212, 147,  47],\n",
      "        ...,\n",
      "        [223, 168,  77],\n",
      "        [232, 172,  82],\n",
      "        [229, 165,  70]],\n",
      "\n",
      "       [[197, 139,  39],\n",
      "        [209, 151,  47],\n",
      "        [190, 134,  43],\n",
      "        ...,\n",
      "        [204, 150,  52],\n",
      "        [214, 154,  54],\n",
      "        [215, 154,  54]],\n",
      "\n",
      "       [[225, 168,  75],\n",
      "        [244, 190, 109],\n",
      "        [190, 137,  43],\n",
      "        ...,\n",
      "        [203, 143,  43],\n",
      "        [214, 153,  59],\n",
      "        [194, 137,  48]]], dtype=uint8)\n",
      " array([0, 0, 0, 0, 0, 0, 0, 0, 0, 0, 0, 0, 0, 0, 0, 0, 0, 0, 0, 0, 0, 0,\n",
      "       0, 0, 0, 0, 0, 0, 0, 0, 0, 0, 0, 0, 0, 0, 1, 0, 0, 0, 0, 0, 0, 0,\n",
      "       0, 0, 0, 0, 0, 0])]\n"
     ]
    }
   ],
   "source": [
    "# test = create_test_data()\n",
    "test = np.load(\"test_data.npy\", allow_pickle=True)\n",
    "print(test[0])"
   ]
  },
  {
   "cell_type": "code",
   "execution_count": 9,
   "metadata": {},
   "outputs": [],
   "source": [
    "train_X_list = []\n",
    "train_Y_list = []\n",
    "test_X_list = []\n",
    "test_Y_list = []"
   ]
  },
  {
   "cell_type": "code",
   "execution_count": 10,
   "metadata": {},
   "outputs": [],
   "source": [
    "for i in range(len(train)):\n",
    "    train_X_list.append(train[i][0].reshape(IMG_SIZE, IMG_SIZE, 3))\n",
    "    train_Y_list.append(train[i][1])\n",
    "\n",
    "for i in range(len(test)):\n",
    "    test_X_list.append(test[i][0].reshape(IMG_SIZE, IMG_SIZE, 3))\n",
    "    test_Y_list.append(test[i][1])"
   ]
  },
  {
   "cell_type": "code",
   "execution_count": 11,
   "metadata": {},
   "outputs": [],
   "source": [
    "train_X = np.array(train_X_list)\n",
    "train_Y = np.array(train_Y_list)\n",
    "test_X = np.array(test_X_list)\n",
    "test_Y = np.array(test_Y_list)"
   ]
  },
  {
   "cell_type": "code",
   "execution_count": 29,
   "metadata": {},
   "outputs": [],
   "source": [
    "model = VGG16(include_top=False, weights='imagenet', input_tensor=None, input_shape=train_X.shape[1:], pooling='max', classes=50)"
   ]
  },
  {
   "cell_type": "code",
   "execution_count": 19,
   "metadata": {},
   "outputs": [
    {
     "name": "stdout",
     "output_type": "stream",
     "text": [
      "_________________________________________________________________\n",
      "Layer (type)                 Output Shape              Param #   \n",
      "=================================================================\n",
      "input_2 (InputLayer)         (None, 128, 128, 3)       0         \n",
      "_________________________________________________________________\n",
      "block1_conv1 (Conv2D)        (None, 128, 128, 64)      1792      \n",
      "_________________________________________________________________\n",
      "block1_conv2 (Conv2D)        (None, 128, 128, 64)      36928     \n",
      "_________________________________________________________________\n",
      "block1_pool (MaxPooling2D)   (None, 64, 64, 64)        0         \n",
      "_________________________________________________________________\n",
      "block2_conv1 (Conv2D)        (None, 64, 64, 128)       73856     \n",
      "_________________________________________________________________\n",
      "block2_conv2 (Conv2D)        (None, 64, 64, 128)       147584    \n",
      "_________________________________________________________________\n",
      "block2_pool (MaxPooling2D)   (None, 32, 32, 128)       0         \n",
      "_________________________________________________________________\n",
      "block3_conv1 (Conv2D)        (None, 32, 32, 256)       295168    \n",
      "_________________________________________________________________\n",
      "block3_conv2 (Conv2D)        (None, 32, 32, 256)       590080    \n",
      "_________________________________________________________________\n",
      "block3_conv3 (Conv2D)        (None, 32, 32, 256)       590080    \n",
      "_________________________________________________________________\n",
      "block3_pool (MaxPooling2D)   (None, 16, 16, 256)       0         \n",
      "_________________________________________________________________\n",
      "block4_conv1 (Conv2D)        (None, 16, 16, 512)       1180160   \n",
      "_________________________________________________________________\n",
      "block4_conv2 (Conv2D)        (None, 16, 16, 512)       2359808   \n",
      "_________________________________________________________________\n",
      "block4_conv3 (Conv2D)        (None, 16, 16, 512)       2359808   \n",
      "_________________________________________________________________\n",
      "block4_pool (MaxPooling2D)   (None, 8, 8, 512)         0         \n",
      "_________________________________________________________________\n",
      "block5_conv1 (Conv2D)        (None, 8, 8, 512)         2359808   \n",
      "_________________________________________________________________\n",
      "block5_conv2 (Conv2D)        (None, 8, 8, 512)         2359808   \n",
      "_________________________________________________________________\n",
      "block5_conv3 (Conv2D)        (None, 8, 8, 512)         2359808   \n",
      "_________________________________________________________________\n",
      "block5_pool (MaxPooling2D)   (None, 4, 4, 512)         0         \n",
      "_________________________________________________________________\n",
      "global_max_pooling2d_2 (Glob (None, 512)               0         \n",
      "=================================================================\n",
      "Total params: 14,714,688\n",
      "Trainable params: 14,714,688\n",
      "Non-trainable params: 0\n",
      "_________________________________________________________________\n"
     ]
    }
   ],
   "source": [
    "# model.save(\"vgg16.h5\")\n",
    "model = load_model(\"vgg16.h5\")\n",
    "model.summary()"
   ]
  },
  {
   "cell_type": "code",
   "execution_count": 20,
   "metadata": {},
   "outputs": [
    {
     "name": "stdout",
     "output_type": "stream",
     "text": [
      "<keras.engine.input_layer.InputLayer object at 0x0000022A70E03F60> False\n",
      "<keras.layers.convolutional.Conv2D object at 0x0000022A70E03F28> False\n",
      "<keras.layers.convolutional.Conv2D object at 0x0000022A70E16BA8> False\n",
      "<keras.layers.pooling.MaxPooling2D object at 0x0000022A70E166A0> False\n",
      "<keras.layers.convolutional.Conv2D object at 0x0000022A70E16F28> False\n",
      "<keras.layers.convolutional.Conv2D object at 0x0000022A70E29390> False\n",
      "<keras.layers.pooling.MaxPooling2D object at 0x0000022A70E29BA8> False\n",
      "<keras.layers.convolutional.Conv2D object at 0x0000022A70E03828> False\n",
      "<keras.layers.convolutional.Conv2D object at 0x0000022A70E3D668> False\n",
      "<keras.layers.convolutional.Conv2D object at 0x0000022A70E3D630> False\n",
      "<keras.layers.pooling.MaxPooling2D object at 0x0000022A70E52668> False\n",
      "<keras.layers.convolutional.Conv2D object at 0x0000022A70E52080> False\n",
      "<keras.layers.convolutional.Conv2D object at 0x0000022A70E52F28> False\n",
      "<keras.layers.convolutional.Conv2D object at 0x0000022A70E664A8> False\n",
      "<keras.layers.pooling.MaxPooling2D object at 0x0000022A70E66BA8> False\n",
      "<keras.layers.convolutional.Conv2D object at 0x0000022A70E66470> True\n",
      "<keras.layers.convolutional.Conv2D object at 0x0000022A70E8B160> True\n",
      "<keras.layers.convolutional.Conv2D object at 0x0000022A70E8B3C8> True\n",
      "<keras.layers.pooling.MaxPooling2D object at 0x0000022A70E8B588> True\n",
      "<keras.layers.pooling.GlobalMaxPooling2D object at 0x0000022A70E8B630> True\n"
     ]
    }
   ],
   "source": [
    "for layer in model.layers[:-5]:\n",
    "    layer.trainable = False\n",
    "    \n",
    "for layer in model.layers:\n",
    "    print(layer, layer.trainable)"
   ]
  },
  {
   "cell_type": "code",
   "execution_count": 21,
   "metadata": {},
   "outputs": [
    {
     "name": "stdout",
     "output_type": "stream",
     "text": [
      "_________________________________________________________________\n",
      "Layer (type)                 Output Shape              Param #   \n",
      "=================================================================\n",
      "vgg16 (Model)                (None, 512)               14714688  \n",
      "_________________________________________________________________\n",
      "fc1 (Dense)                  (None, 512)               262656    \n",
      "_________________________________________________________________\n",
      "dropout_5 (Dropout)          (None, 512)               0         \n",
      "_________________________________________________________________\n",
      "fc2 (Dense)                  (None, 512)               262656    \n",
      "_________________________________________________________________\n",
      "dropout_6 (Dropout)          (None, 512)               0         \n",
      "_________________________________________________________________\n",
      "fc3 (Dense)                  (None, 50)                25650     \n",
      "=================================================================\n",
      "Total params: 15,265,650\n",
      "Trainable params: 7,630,386\n",
      "Non-trainable params: 7,635,264\n",
      "_________________________________________________________________\n"
     ]
    }
   ],
   "source": [
    "model_final = Sequential()\n",
    "\n",
    "model_final.add(model)\n",
    "model_final.add(Dense(512, activation='relu', name='fc1'))\n",
    "model_final.add(Dropout(rate=0.4))\n",
    "model_final.add(Dense(512, activation='relu', name='fc2'))\n",
    "model_final.add(Dropout(rate=0.4))\n",
    "model_final.add(Dense(50, activation='softmax', name='fc3'))\n",
    "\n",
    "model_final.summary()"
   ]
  },
  {
   "cell_type": "code",
   "execution_count": 22,
   "metadata": {},
   "outputs": [],
   "source": [
    "adam = Adam(lr=0.0001)\n",
    "\n",
    "model_final.compile(optimizer=adam, loss='categorical_crossentropy', metrics=['accuracy'])"
   ]
  },
  {
   "cell_type": "code",
   "execution_count": 25,
   "metadata": {},
   "outputs": [
    {
     "name": "stdout",
     "output_type": "stream",
     "text": [
      "Train on 19138 samples, validate on 8233 samples\n",
      "Epoch 1/5\n",
      " - 111s - loss: 0.5809 - acc: 0.8310 - val_loss: 0.6274 - val_acc: 0.8297\n",
      "Epoch 2/5\n",
      " - 111s - loss: 0.4114 - acc: 0.8785 - val_loss: 0.5442 - val_acc: 0.8562\n",
      "Epoch 3/5\n",
      " - 111s - loss: 0.3163 - acc: 0.9027 - val_loss: 0.4647 - val_acc: 0.8781\n",
      "Epoch 4/5\n",
      " - 111s - loss: 0.2801 - acc: 0.9126 - val_loss: 0.4768 - val_acc: 0.8717\n",
      "Epoch 5/5\n",
      " - 111s - loss: 0.2147 - acc: 0.9281 - val_loss: 0.4093 - val_acc: 0.8847\n"
     ]
    }
   ],
   "source": [
    "hist = model_final.fit(train_X, train_Y, epochs=5, validation_data=(test_X, test_Y), verbose=2)"
   ]
  },
  {
   "cell_type": "code",
   "execution_count": 26,
   "metadata": {},
   "outputs": [
    {
     "data": {
      "image/png": "[encoded data removed]",
      "text/plain": [
       "<Figure size 432x288 with 1 Axes>"
      ]
     },
     "metadata": {
      "needs_background": "light"
     },
     "output_type": "display_data"
    },
    {
     "data": {
      "image/png": "[encoded data removed]",
      "text/plain": [
       "<Figure size 432x288 with 1 Axes>"
      ]
     },
     "metadata": {
      "needs_background": "light"
     },
     "output_type": "display_data"
    }
   ],
   "source": [
    "plt.plot(hist.history['acc'])\n",
    "plt.plot(hist.history['val_acc'])\n",
    "plt.title('Model accuracy')\n",
    "plt.ylabel('Accuracy')\n",
    "plt.xlabel('Epoch')\n",
    "plt.legend(['Train', 'Test'], loc='upper left')\n",
    "plt.show()\n",
    "\n",
    "# Plot training & validation loss values\n",
    "plt.plot(hist.history['loss'])\n",
    "plt.plot(hist.history['val_loss'])\n",
    "plt.title('Model loss')\n",
    "plt.ylabel('Loss')\n",
    "plt.xlabel('Epoch')\n",
    "plt.legend(['Train', 'Test'], loc='upper left')\n",
    "plt.show()"
   ]
  },
  {
   "cell_type": "code",
   "execution_count": 4,
   "metadata": {},
   "outputs": [
    {
     "name": "stdout",
     "output_type": "stream",
     "text": [
      "WARNING:tensorflow:From C:\\Users\\Karthik\\Anaconda3\\envs\\pythonGPU\\lib\\site-packages\\keras\\backend\\tensorflow_backend.py:517: The name tf.placeholder is deprecated. Please use tf.compat.v1.placeholder instead.\n",
      "\n",
      "WARNING:tensorflow:From C:\\Users\\Karthik\\Anaconda3\\envs\\pythonGPU\\lib\\site-packages\\keras\\backend\\tensorflow_backend.py:4138: The name tf.random_uniform is deprecated. Please use tf.random.uniform instead.\n",
      "\n",
      "WARNING:tensorflow:From C:\\Users\\Karthik\\Anaconda3\\envs\\pythonGPU\\lib\\site-packages\\keras\\backend\\tensorflow_backend.py:3976: The name tf.nn.max_pool is deprecated. Please use tf.nn.max_pool2d instead.\n",
      "\n",
      "WARNING:tensorflow:From C:\\Users\\Karthik\\Anaconda3\\envs\\pythonGPU\\lib\\site-packages\\keras\\backend\\tensorflow_backend.py:131: The name tf.get_default_graph is deprecated. Please use tf.compat.v1.get_default_graph instead.\n",
      "\n",
      "WARNING:tensorflow:From C:\\Users\\Karthik\\Anaconda3\\envs\\pythonGPU\\lib\\site-packages\\keras\\backend\\tensorflow_backend.py:133: The name tf.placeholder_with_default is deprecated. Please use tf.compat.v1.placeholder_with_default instead.\n",
      "\n",
      "WARNING:tensorflow:From C:\\Users\\Karthik\\Anaconda3\\envs\\pythonGPU\\lib\\site-packages\\keras\\backend\\tensorflow_backend.py:3445: calling dropout (from tensorflow.python.ops.nn_ops) with keep_prob is deprecated and will be removed in a future version.\n",
      "Instructions for updating:\n",
      "Please use `rate` instead of `keep_prob`. Rate should be set to `rate = 1 - keep_prob`.\n",
      "WARNING:tensorflow:From C:\\Users\\Karthik\\Anaconda3\\envs\\pythonGPU\\lib\\site-packages\\keras\\backend\\tensorflow_backend.py:174: The name tf.get_default_session is deprecated. Please use tf.compat.v1.get_default_session instead.\n",
      "\n",
      "WARNING:tensorflow:From C:\\Users\\Karthik\\Anaconda3\\envs\\pythonGPU\\lib\\site-packages\\keras\\optimizers.py:790: The name tf.train.Optimizer is deprecated. Please use tf.compat.v1.train.Optimizer instead.\n",
      "\n",
      "WARNING:tensorflow:From C:\\Users\\Karthik\\Anaconda3\\envs\\pythonGPU\\lib\\site-packages\\tensorflow\\python\\ops\\math_grad.py:1250: add_dispatch_support.<locals>.wrapper (from tensorflow.python.ops.array_ops) is deprecated and will be removed in a future version.\n",
      "Instructions for updating:\n",
      "Use tf.where in 2.0, which has the same broadcast rule as np.where\n"
     ]
    }
   ],
   "source": [
    "model_final.save(\"vgg16_50class.h5\")\n",
    "# model_final = load_model(\"vgg16_50class.h5\")"
   ]
  },
  {
   "cell_type": "code",
   "execution_count": null,
   "metadata": {},
   "outputs": [],
   "source": []
  },
  {
   "cell_type": "code",
   "execution_count": 15,
   "metadata": {},
   "outputs": [
    {
     "name": "stdout",
     "output_type": "stream",
     "text": [
      "loss = 0.496843677381076\n",
      "accuracy = 0.8716142354086249\n"
     ]
    }
   ],
   "source": [
    "predict = model_final.evaluate(test_X, test_Y, verbose=2)\n",
    "\n",
    "print(\"loss = \" + str(predict[0]))\n",
    "print(\"accuracy = \" + str(predict[1]))"
   ]
  },
  {
   "cell_type": "code",
   "execution_count": 10,
   "metadata": {},
   "outputs": [
    {
     "data": {
      "text/plain": [
       "<matplotlib.image.AxesImage at 0x247b7940a20>"
      ]
     },
     "execution_count": 10,
     "metadata": {},
     "output_type": "execute_result"
    },
    {
     "data": {
      "image/png": "[encoded data removed]",
      "text/plain": [
       "<Figure size 432x288 with 1 Axes>"
      ]
     },
     "metadata": {
      "needs_background": "light"
     },
     "output_type": "display_data"
    }
   ],
   "source": [
    "img_path = \"dataset_50_class/95/2b2f209acc1ad858.jpg\"\n",
    "\n",
    "img = cv2.imread(img_path)\n",
    "img = cv2.resize(img, (IMG_SIZE,IMG_SIZE))\n",
    "\n",
    "plt.imshow(cv2.cvtColor(img, cv2.COLOR_BGR2RGB))"
   ]
  },
  {
   "cell_type": "code",
   "execution_count": 11,
   "metadata": {},
   "outputs": [
    {
     "name": "stdout",
     "output_type": "stream",
     "text": [
      "95\n"
     ]
    }
   ],
   "source": [
    "pred = model_final.predict(img.reshape(1, IMG_SIZE, IMG_SIZE, 3))[0].tolist()\n",
    "pred_index = pred.index(max(pred))\n",
    "print(mapping_dict[pred_index])\n",
    "# print"
   ]
  },
  {
   "cell_type": "code",
   "execution_count": null,
   "metadata": {},
   "outputs": [],
   "source": []
  }
 ],
 "metadata": {
  "kernelspec": {
   "display_name": "Python 3",
   "language": "python",
   "name": "python3"
  },
  "language_info": {
   "codemirror_mode": {
    "name": "ipython",
    "version": 3
   },
   "file_extension": ".py",
   "mimetype": "text/x-python",
   "name": "python",
   "nbconvert_exporter": "python",
   "pygments_lexer": "ipython3",
   "version": "3.6.8"
  }
 },
 "nbformat": 4,
 "nbformat_minor": 2
}
